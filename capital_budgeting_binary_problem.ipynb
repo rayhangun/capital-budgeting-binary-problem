{
  "nbformat": 4,
  "nbformat_minor": 0,
  "metadata": {
    "colab": {
      "name": "capital-budgeting-binary-problem.ipynb",
      "provenance": []
    },
    "kernelspec": {
      "name": "python3",
      "display_name": "Python 3"
    },
    "language_info": {
      "name": "python"
    }
  },
  "cells": [
    {
      "cell_type": "code",
      "execution_count": 1,
      "metadata": {
        "colab": {
          "base_uri": "https://localhost:8080/"
        },
        "id": "7nteP_WUEycA",
        "outputId": "d25733cf-2b95-41f2-b7f3-49efb9993879"
      },
      "outputs": [
        {
          "output_type": "stream",
          "name": "stdout",
          "text": [
            "Looking in indexes: https://pypi.org/simple, https://us-python.pkg.dev/colab-wheels/public/simple/\n",
            "Collecting pulp\n",
            "  Downloading PuLP-2.6.0-py3-none-any.whl (14.2 MB)\n",
            "\u001b[K     |████████████████████████████████| 14.2 MB 5.4 MB/s \n",
            "\u001b[?25hInstalling collected packages: pulp\n",
            "Successfully installed pulp-2.6.0\n"
          ]
        }
      ],
      "source": [
        "# install dulu package-nya\n",
        "!pip install pulp"
      ]
    },
    {
      "cell_type": "code",
      "source": [
        "# import package-nya ke python\n",
        "from pulp import *"
      ],
      "metadata": {
        "id": "IiFS0UKaE4Mf"
      },
      "execution_count": 2,
      "outputs": []
    },
    {
      "cell_type": "code",
      "source": [
        "# create the LP object, set up as a maximization problem --> since we want to maximize the NPV\n",
        "problem = pulp.LpProblem('Capital Budgeting_Problem', LpMaximize)\n",
        "\n",
        "# declare the variables\n",
        "p = LpVariable(\"Plant Expansion Project\", cat = 'Binary') # 1 = accepted , 0 = rejected\n",
        "w = LpVariable(\"Warehouse Expansion Project\", cat = 'Binary') # 1 = accepted , 0 = rejected\n",
        "m = LpVariable(\"Machinery Project\", cat = 'Binary') # 1 = accepted , 0 = rejected\n",
        "r = LpVariable(\"Research Project\", cat = 'Binary') # 1 = accepted , 0 = rejected\n",
        "\n",
        "# define the objective function\n",
        "problem += 90*p + 40*w + 10*m + 37*r\n",
        "\n",
        "# define the constraints\n",
        "problem += 15*p + 10*w + 10*m + 15*r <= 40 # Year 1 Capital Requirement\n",
        "problem += 20*p + 15*w + 10*r <= 40 # Year 2 Capital Requirement\n",
        "problem += 20*p + 20*w + 10*r <= 40 # Year 3 Capital Requirement\n",
        "problem += 15*p + 5*w + 4*m + 10*r <= 35 # Year 4 Capital Requirement\n",
        "\n",
        "problem # display the LP problem"
      ],
      "metadata": {
        "colab": {
          "base_uri": "https://localhost:8080/"
        },
        "id": "DrzK4H3FE_dK",
        "outputId": "5169e2c3-9856-4ea1-ada8-ca4d2a94317a"
      },
      "execution_count": 3,
      "outputs": [
        {
          "output_type": "stream",
          "name": "stderr",
          "text": [
            "/usr/local/lib/python3.7/dist-packages/pulp/pulp.py:1352: UserWarning: Spaces are not permitted in the name. Converted to '_'\n",
            "  warnings.warn(\"Spaces are not permitted in the name. Converted to '_'\")\n"
          ]
        },
        {
          "output_type": "execute_result",
          "data": {
            "text/plain": [
              "Capital_Budgeting_Problem:\n",
              "MAXIMIZE\n",
              "10*Machinery_Project + 90*Plant_Expansion_Project + 37*Research_Project + 40*Warehouse_Expansion_Project + 0\n",
              "SUBJECT TO\n",
              "_C1: 10 Machinery_Project + 15 Plant_Expansion_Project + 15 Research_Project\n",
              " + 10 Warehouse_Expansion_Project <= 40\n",
              "\n",
              "_C2: 20 Plant_Expansion_Project + 10 Research_Project\n",
              " + 15 Warehouse_Expansion_Project <= 40\n",
              "\n",
              "_C3: 20 Plant_Expansion_Project + 10 Research_Project\n",
              " + 20 Warehouse_Expansion_Project <= 40\n",
              "\n",
              "_C4: 4 Machinery_Project + 15 Plant_Expansion_Project + 10 Research_Project\n",
              " + 5 Warehouse_Expansion_Project <= 35\n",
              "\n",
              "VARIABLES\n",
              "0 <= Machinery_Project <= 1 Integer\n",
              "0 <= Plant_Expansion_Project <= 1 Integer\n",
              "0 <= Research_Project <= 1 Integer\n",
              "0 <= Warehouse_Expansion_Project <= 1 Integer"
            ]
          },
          "metadata": {},
          "execution_count": 3
        }
      ]
    },
    {
      "cell_type": "code",
      "source": [
        "problem.solve() # solving the problem"
      ],
      "metadata": {
        "colab": {
          "base_uri": "https://localhost:8080/"
        },
        "id": "x7hEfx3SOWkT",
        "outputId": "6ab85d94-a52e-4b2e-d511-4e5350286c02"
      },
      "execution_count": 4,
      "outputs": [
        {
          "output_type": "execute_result",
          "data": {
            "text/plain": [
              "1"
            ]
          },
          "metadata": {},
          "execution_count": 4
        }
      ]
    },
    {
      "cell_type": "code",
      "source": [
        "print(\"Status = \", LpStatus[problem.status])\n",
        "print(\"Objective value = \", value(problem.objective))"
      ],
      "metadata": {
        "colab": {
          "base_uri": "https://localhost:8080/"
        },
        "id": "pdr2dW8fOag8",
        "outputId": "58c16b79-833a-4c43-d748-292e2f381445"
      },
      "execution_count": 5,
      "outputs": [
        {
          "output_type": "stream",
          "name": "stdout",
          "text": [
            "Status =  Optimal\n",
            "Objective value =  140.0\n"
          ]
        }
      ]
    },
    {
      "cell_type": "code",
      "source": [
        "for v in problem.variables():\n",
        "    print(v.name, \"value =\", v.varValue)"
      ],
      "metadata": {
        "colab": {
          "base_uri": "https://localhost:8080/"
        },
        "id": "_4t8rXIgOqr_",
        "outputId": "a73a8911-b54c-4ea7-c4de-4d80ede6dd38"
      },
      "execution_count": 6,
      "outputs": [
        {
          "output_type": "stream",
          "name": "stdout",
          "text": [
            "Machinery_Project value = 1.0\n",
            "Plant_Expansion_Project value = 1.0\n",
            "Research_Project value = 0.0\n",
            "Warehouse_Expansion_Project value = 1.0\n"
          ]
        }
      ]
    }
  ]
}